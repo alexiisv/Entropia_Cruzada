{
 "cells": [
  {
   "cell_type": "code",
   "execution_count": 11,
   "id": "bf674e06",
   "metadata": {},
   "outputs": [
    {
     "name": "stdout",
     "output_type": "stream",
     "text": [
      "La Entropia Cruzada ALEATORIO es 8.718308447888584\n"
     ]
    }
   ],
   "source": [
    "import numpy as np\n",
    "\n",
    "#ENTROPIA DATOS ALEATORIOS\n",
    "\n",
    "datos= 3\n",
    "Y = np.array(np.random.randint(0,2,datos))\n",
    "P = np.array(np.random.rand(datos,1))\n",
    "\n",
    "\n",
    "def cross_entropy(Y, P):\n",
    "   Y = np.float_(Y)\n",
    "   P = np.float_(P)\n",
    "   return -np.sum(Y * np.log(P) + (1 - Y) * np.log(1 - P))\n",
    "\n",
    "entrop=cross_entropy(Y, P)\n",
    "print('La Entropia Cruzada ALEATORIO es', entrop)"
   ]
  },
  {
   "cell_type": "code",
   "execution_count": 15,
   "id": "a2666896",
   "metadata": {},
   "outputs": [
    {
     "name": "stdout",
     "output_type": "stream",
     "text": [
      "Entropia cruzada de datos es 7456.298442786594\n"
     ]
    }
   ],
   "source": [
    "#ENTROPIA DATOS PROFE\n",
    "\n",
    "import numpy as np\n",
    "import pandas as pd\n",
    "\n",
    "\n",
    "#Funcion Sigmoide\n",
    "def sigmoid(x):\n",
    "    return 1/(1+np.exp(-x))\n",
    "\n",
    "def prediccion(X, W, b):\n",
    "    return sigmoid((np.matmul(X,W)+b)) #elige el primer numero de la matriz o vector\n",
    "\n",
    "def cross_entropy1(y1, P1):\n",
    "   y1 = np.float_(y1)\n",
    "   P1 = np.float_(P1)\n",
    "   return -np.sum(y1 * np.log(P1) + (1 - y1) * np.log(1 - P1))\n",
    "# Cargamos data\n",
    "data = np.array(pd.read_csv('data.csv', header=0))\n",
    "#data= np.array(data)\n",
    "X = data[:,0:2]\n",
    "y1 = data[:,2]\n",
    "\n",
    "#Inicializamos pesos y bias aleatorios \n",
    "W = np.array(np.random.rand(2,1)) \n",
    "b = np.random.rand(1)[0]\n",
    "\n",
    "#Calculamos la probabilidad\n",
    "P1=prediccion(X, W, b)\n",
    "\n",
    "\n",
    "Entropiadatos=cross_entropy1(y1, P1)\n",
    "\n",
    "print('Entropia cruzada de datos es',Entropiadatos)"
   ]
  },
  {
   "cell_type": "code",
   "execution_count": null,
   "id": "913b36c5",
   "metadata": {},
   "outputs": [],
   "source": []
  },
  {
   "cell_type": "code",
   "execution_count": null,
   "id": "9d52f747",
   "metadata": {},
   "outputs": [],
   "source": []
  },
  {
   "cell_type": "code",
   "execution_count": null,
   "id": "4784e796",
   "metadata": {},
   "outputs": [],
   "source": []
  },
  {
   "cell_type": "code",
   "execution_count": null,
   "id": "95b76b54",
   "metadata": {},
   "outputs": [],
   "source": []
  }
 ],
 "metadata": {
  "kernelspec": {
   "display_name": "Python 3 (ipykernel)",
   "language": "python",
   "name": "python3"
  },
  "language_info": {
   "codemirror_mode": {
    "name": "ipython",
    "version": 3
   },
   "file_extension": ".py",
   "mimetype": "text/x-python",
   "name": "python",
   "nbconvert_exporter": "python",
   "pygments_lexer": "ipython3",
   "version": "3.9.13"
  }
 },
 "nbformat": 4,
 "nbformat_minor": 5
}
